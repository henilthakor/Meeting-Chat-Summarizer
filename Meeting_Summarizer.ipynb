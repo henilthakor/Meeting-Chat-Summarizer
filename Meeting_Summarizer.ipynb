{
  "nbformat": 4,
  "nbformat_minor": 0,
  "metadata": {
    "colab": {
      "name": "Meeting_Summarizer.ipynb",
      "provenance": [],
      "collapsed_sections": []
    },
    "kernelspec": {
      "name": "python3",
      "display_name": "Python 3"
    }
  },
  "cells": [
    {
      "cell_type": "markdown",
      "metadata": {
        "id": "EBYHROCGRRxw"
      },
      "source": [
        "**Meeting Summarizer**\n",
        "> About Project: \n",
        ">>This project shows a method to generate a summary of meeting chat using ***Text Tank Algorithm***. The summarizing function improves the quality of the generated summary by taking user's feedback.\n",
        "\n",
        "> Pipeline Used:\n",
        ">>The various steps of the pipeline are:\n",
        ">>1. Reading Meeting Chat\n",
        ">>2. Preprocessing Text\n",
        ">>3. Word Tokenization\n",
        ">>4. Word Lemmatization\n",
        ">>5. Generating Word Frequency Vector\n",
        ">>6. Sentence Tokenization\n",
        ">>7. Sentence Ranking\n",
        ">>8. Finding Threshold Rank\n",
        ">>9. Generating Summary\n",
        ">>10. Taking User's Feedback \n",
        ">>11. Updating Feedback table\n",
        "\n",
        "\n",
        "\n",
        "\n",
        "\n",
        "\n"
      ]
    },
    {
      "cell_type": "code",
      "metadata": {
        "id": "W6dDvDQ281th",
        "colab": {
          "base_uri": "https://localhost:8080/"
        },
        "outputId": "4ea4a544-9e91-40ee-c3a9-4175fe64b6de"
      },
      "source": [
        "import nltk\n",
        "nltk.download('stopwords')\n",
        "nltk.download('punkt')\n",
        "nltk.download('wordnet')\n",
        "from nltk.corpus import stopwords\n",
        "from nltk.tokenize import word_tokenize, sent_tokenize\n",
        "from nltk.stem import WordNetLemmatizer"
      ],
      "execution_count": null,
      "outputs": [
        {
          "output_type": "stream",
          "text": [
            "[nltk_data] Downloading package stopwords to /root/nltk_data...\n",
            "[nltk_data]   Package stopwords is already up-to-date!\n",
            "[nltk_data] Downloading package punkt to /root/nltk_data...\n",
            "[nltk_data]   Package punkt is already up-to-date!\n",
            "[nltk_data] Downloading package wordnet to /root/nltk_data...\n",
            "[nltk_data]   Package wordnet is already up-to-date!\n"
          ],
          "name": "stdout"
        }
      ]
    },
    {
      "cell_type": "code",
      "metadata": {
        "id": "iai98Yl3AVak"
      },
      "source": [
        "#Few Important global variables\n",
        "stopWords = set(stopwords.words(\"english\"))\n",
        "lemmatizer = WordNetLemmatizer() \n",
        "ImpTable = dict()\n",
        "meetings = 0"
      ],
      "execution_count": null,
      "outputs": []
    },
    {
      "cell_type": "code",
      "metadata": {
        "id": "wUvcLtPdAh--"
      },
      "source": [
        "def preprocess(text,participants):\n",
        "  protext=text\n",
        "  for part in participants:\n",
        "    protext = protext.replace(part+\": \",\"\")\n",
        "  return protext"
      ],
      "execution_count": null,
      "outputs": []
    },
    {
      "cell_type": "code",
      "metadata": {
        "id": "Zez-I7FMBTtf"
      },
      "source": [
        "def freq_vectorize(words):\n",
        "  freqTable = dict()\n",
        "  totalwords = len(words) \n",
        "  for word in words: \n",
        "      word = word.lower()\n",
        "      word = lemmatizer.lemmatize(word)\n",
        "      if word in stopWords: \n",
        "          continue\n",
        "      if word in freqTable: \n",
        "          freqTable[word] += 1/totalwords\n",
        "      else: \n",
        "          freqTable[word] = 1/totalwords\n",
        "\n",
        "  #Updating Frequency Vector according to Users Feedback        \n",
        "  for word,freq in freqTable.items():\n",
        "    if word in ImpTable.keys():\n",
        "      freqTable[word] = ImpTable[word]+freq\n",
        "  return freqTable"
      ],
      "execution_count": null,
      "outputs": []
    },
    {
      "cell_type": "code",
      "metadata": {
        "id": "c3N3DuSIDLVg"
      },
      "source": [
        "def sent_rank(sentences, freqTable):\n",
        "  sentenceValue = dict()\n",
        "  for sentence in sentences:\n",
        "    sentence_list = word_tokenize(sentence)\n",
        "    sentence_list = list(map(lemmatizer.lemmatize,sentence_list)) \n",
        "    for word, freq in freqTable.items(): \n",
        "        if word in sentence_list: \n",
        "            if sentence in sentenceValue: \n",
        "                sentenceValue[sentence] += freq \n",
        "            else: \n",
        "                sentenceValue[sentence] = freq \n",
        "  return sentenceValue"
      ],
      "execution_count": null,
      "outputs": []
    },
    {
      "cell_type": "code",
      "metadata": {
        "id": "e8aMFABNEsSe"
      },
      "source": [
        "def find_average(sentenceValue):\n",
        "  sumValues = 0\n",
        "  for sentence in sentenceValue: \n",
        "      sumValues += sentenceValue[sentence] \n",
        "  average = (sumValues / len(sentenceValue))\n",
        "  return average"
      ],
      "execution_count": null,
      "outputs": []
    },
    {
      "cell_type": "code",
      "metadata": {
        "id": "eMDUGFFcF7Vk"
      },
      "source": [
        "def extract_summary(sentences,sentenceValue,average):\n",
        "  summary = '' \n",
        "  for sentence in sentences: \n",
        "      if (sentence in sentenceValue) and (sentenceValue[sentence] > (1.2*average)): \n",
        "          summary += \" \" + sentence \n",
        "  return summary"
      ],
      "execution_count": null,
      "outputs": []
    },
    {
      "cell_type": "code",
      "metadata": {
        "id": "eenjkVb-KcQ8"
      },
      "source": [
        "def update_ImpTable(hsummary):\n",
        "  fwords = word_tokenize(hsummary)\n",
        "  totalwords = len(fwords)\n",
        "  for word in fwords: \n",
        "    word = word.lower()\n",
        "    word = lemmatizer.lemmatize(word)\n",
        "    if word in stopWords: \n",
        "        continue\n",
        "    if word in ImpTable: \n",
        "        ImpTable[word] += 1/totalwords\n",
        "    else: \n",
        "        ImpTable[word] = 1/totalwords\n",
        "\n",
        "  for word,imp in ImpTable.items():\n",
        "    ImpTable[word] = imp/meetings\n",
        "  print(\"\\n\\nFeedback Vector Updated!!!\")\n"
      ],
      "execution_count": null,
      "outputs": []
    },
    {
      "cell_type": "code",
      "metadata": {
        "id": "GtSgMok189AJ"
      },
      "source": [
        "def summarize(text, participants):\n",
        "  #Generating summary\n",
        "  protext = preprocess(text, participants) #removes name of the speaker\n",
        "  words = word_tokenize(protext) #Word tokenizing\n",
        "  freqTable = freq_vectorize(words) #Lemmatization and forming word freqency vector\n",
        "  sentences = sent_tokenize(protext) #sentence tokenizing\n",
        "  sentenceValue = sent_rank(sentences, freqTable) #Ranking sentences\n",
        "  average = find_average(sentenceValue) #Finding the average rank\n",
        "  summary = extract_summary(sentences, sentenceValue, average) #Generating summary \n",
        "\n",
        "  #printing summary\n",
        "  print(\"Meeting Summary:\")\n",
        "  print(summary)\n",
        "  print(\"\\n\\n\")\n",
        "\n",
        "  #Asking for Users Feedback\n",
        "  c = input(\"Do you want to give feedback for the summary?(Y/N)\")\n",
        "  if c =='Y'or c=='y':\n",
        "    global meetings \n",
        "    meetings += 1\n",
        "    for i in range(len(sentences)):\n",
        "      print(str(i) + \". \" + sentences[i])\n",
        "    IS = list(map(int, input(\"Enter the nos. of sentences you want to include in the summary (commaseperated): \").split(\",\")))\n",
        "    hsummary=\"\"\n",
        "    for i in range(len(sentences)):\n",
        "      if i in IS:\n",
        "        hsummary = hsummary+\" \" + sentences[i]\n",
        "    print(\"\\n\\nThe summary generated after your feedback is:\")\n",
        "    print(hsummary) #printing user given summary\n",
        "    update_ImpTable(hsummary)"
      ],
      "execution_count": null,
      "outputs": []
    },
    {
      "cell_type": "code",
      "metadata": {
        "id": "yHncWUKALXdf",
        "colab": {
          "base_uri": "https://localhost:8080/"
        },
        "outputId": "a00b886e-1fb1-4f55-a982-3513091c8ec5"
      },
      "source": [
        "text = \"\"\"Henil: Good Morning one and all. I will be presenting todays meeting. The agenda of todays meeting is our newly assigned project HICS. HICS stands for Hearing Impaired Communication System. The main objective of the project is to create an application convert speech audio signals into American sign Language Gestures also know as ASL, which is understood by the hearing-impaired user. The modules of the application includes designing the front-end, speech to text conversion, followed by text to corresponding ASL gesture converstion and finally displaying the gesture images. The important thing is this should all happen in realtime as the client wants the project to fill the communication gap between normal people and hearing-impaired users. So any doubts regarding the project goals?\n",
        "Roni: So sir doest the client want a web application or desktop or mobile app?\n",
        "Henil: It should be a Webapplication.\n",
        "Atul: Sir what is the deadline of the project?\n",
        "Henil: Its 21st of the next month. Anything else guys?. So, lets move to the work distribution. Roni, you will handle the speech to text and text to ASL conversion. Atul, you have to work on the front-end and dealing with the client for further updates on the project. You guys should should update me periodically regarding client's requirement and completion of work. So that was all for todays meeting. You can get back to your work.\"\"\"\n",
        "\n",
        "participants = ['Henil', 'Roni', 'Atul']\n",
        "\n",
        "summarize(text,participants)"
      ],
      "execution_count": null,
      "outputs": [
        {
          "output_type": "stream",
          "text": [
            "Meeting Summary:\n",
            " The main objective of the project is to create an application convert speech audio signals into American sign Language Gestures also know as ASL, which is understood by the hearing-impaired user. The modules of the application includes designing the front-end, speech to text conversion, followed by text to corresponding ASL gesture converstion and finally displaying the gesture images. The important thing is this should all happen in realtime as the client wants the project to fill the communication gap between normal people and hearing-impaired users. Atul, you have to work on the front-end and dealing with the client for further updates on the project. You guys should should update me periodically regarding client's requirement and completion of work.\n",
            "\n",
            "\n",
            "\n",
            "Do you want to give feedback for the summary?(Y/N)Y\n",
            "0. Good Morning one and all.\n",
            "1. I will be presenting todays meeting.\n",
            "2. The agenda of todays meeting is our newly assigned project HICS.\n",
            "3. HICS stands for Hearing Impaired Communication System.\n",
            "4. The main objective of the project is to create an application convert speech audio signals into American sign Language Gestures also know as ASL, which is understood by the hearing-impaired user.\n",
            "5. The modules of the application includes designing the front-end, speech to text conversion, followed by text to corresponding ASL gesture converstion and finally displaying the gesture images.\n",
            "6. The important thing is this should all happen in realtime as the client wants the project to fill the communication gap between normal people and hearing-impaired users.\n",
            "7. So any doubts regarding the project goals?\n",
            "8. So sir doest the client want a web application or desktop or mobile app?\n",
            "9. It should be a Webapplication.\n",
            "10. Sir what is the deadline of the project?\n",
            "11. Its 21st of the next month.\n",
            "12. Anything else guys?.\n",
            "13. So, lets move to the work distribution.\n",
            "14. Roni, you will handle the speech to text and text to ASL conversion.\n",
            "15. Atul, you have to work on the front-end and dealing with the client for further updates on the project.\n",
            "16. You guys should should update me periodically regarding client's requirement and completion of work.\n",
            "17. So that was all for todays meeting.\n",
            "18. You can get back to your work.\n",
            "Enter the nos. of sentences you want to include in the summary (commaseperated): 2,3,4,5,6,9,11,14,15,16\n",
            "\n",
            "\n",
            "The summary generated after your feedback is:\n",
            " The agenda of todays meeting is our newly assigned project HICS. HICS stands for Hearing Impaired Communication System. The main objective of the project is to create an application convert speech audio signals into American sign Language Gestures also know as ASL, which is understood by the hearing-impaired user. The modules of the application includes designing the front-end, speech to text conversion, followed by text to corresponding ASL gesture converstion and finally displaying the gesture images. The important thing is this should all happen in realtime as the client wants the project to fill the communication gap between normal people and hearing-impaired users. It should be a Webapplication. Its 21st of the next month. Roni, you will handle the speech to text and text to ASL conversion. Atul, you have to work on the front-end and dealing with the client for further updates on the project. You guys should should update me periodically regarding client's requirement and completion of work.\n",
            "\n",
            "\n",
            "Feedback Vector Updated!!!\n"
          ],
          "name": "stdout"
        }
      ]
    },
    {
      "cell_type": "code",
      "metadata": {
        "id": "Urwm0YVRQUOp",
        "colab": {
          "base_uri": "https://localhost:8080/"
        },
        "outputId": "a31c991c-3370-41d8-d5dc-668269e41c06"
      },
      "source": [
        "ImpTable"
      ],
      "execution_count": null,
      "outputs": [
        {
          "output_type": "execute_result",
          "data": {
            "text/plain": [
              "{\"'s\": 0.005681818181818182,\n",
              " ',': 0.02840909090909091,\n",
              " '.': 0.05681818181818183,\n",
              " '21st': 0.005681818181818182,\n",
              " 'agenda': 0.005681818181818182,\n",
              " 'also': 0.005681818181818182,\n",
              " 'american': 0.005681818181818182,\n",
              " 'application': 0.011363636363636364,\n",
              " 'asl': 0.017045454545454544,\n",
              " 'assigned': 0.005681818181818182,\n",
              " 'atul': 0.005681818181818182,\n",
              " 'audio': 0.005681818181818182,\n",
              " 'client': 0.017045454545454544,\n",
              " 'communication': 0.011363636363636364,\n",
              " 'completion': 0.005681818181818182,\n",
              " 'conversion': 0.011363636363636364,\n",
              " 'converstion': 0.005681818181818182,\n",
              " 'convert': 0.005681818181818182,\n",
              " 'corresponding': 0.005681818181818182,\n",
              " 'create': 0.005681818181818182,\n",
              " 'dealing': 0.005681818181818182,\n",
              " 'designing': 0.005681818181818182,\n",
              " 'displaying': 0.005681818181818182,\n",
              " 'fill': 0.005681818181818182,\n",
              " 'finally': 0.005681818181818182,\n",
              " 'followed': 0.005681818181818182,\n",
              " 'front-end': 0.011363636363636364,\n",
              " 'gap': 0.005681818181818182,\n",
              " 'gesture': 0.017045454545454544,\n",
              " 'guy': 0.005681818181818182,\n",
              " 'handle': 0.005681818181818182,\n",
              " 'happen': 0.005681818181818182,\n",
              " 'hearing': 0.005681818181818182,\n",
              " 'hearing-impaired': 0.011363636363636364,\n",
              " 'hics': 0.011363636363636364,\n",
              " 'image': 0.005681818181818182,\n",
              " 'impaired': 0.005681818181818182,\n",
              " 'important': 0.005681818181818182,\n",
              " 'includes': 0.005681818181818182,\n",
              " 'know': 0.005681818181818182,\n",
              " 'language': 0.005681818181818182,\n",
              " 'main': 0.005681818181818182,\n",
              " 'meeting': 0.005681818181818182,\n",
              " 'module': 0.005681818181818182,\n",
              " 'month': 0.005681818181818182,\n",
              " 'newly': 0.005681818181818182,\n",
              " 'next': 0.005681818181818182,\n",
              " 'normal': 0.005681818181818182,\n",
              " 'objective': 0.005681818181818182,\n",
              " 'people': 0.005681818181818182,\n",
              " 'periodically': 0.005681818181818182,\n",
              " 'project': 0.022727272727272728,\n",
              " 'realtime': 0.005681818181818182,\n",
              " 'regarding': 0.005681818181818182,\n",
              " 'requirement': 0.005681818181818182,\n",
              " 'roni': 0.005681818181818182,\n",
              " 'sign': 0.005681818181818182,\n",
              " 'signal': 0.005681818181818182,\n",
              " 'speech': 0.017045454545454544,\n",
              " 'stand': 0.005681818181818182,\n",
              " 'system': 0.005681818181818182,\n",
              " 'text': 0.022727272727272728,\n",
              " 'thing': 0.005681818181818182,\n",
              " 'today': 0.005681818181818182,\n",
              " 'understood': 0.005681818181818182,\n",
              " 'update': 0.011363636363636364,\n",
              " 'user': 0.011363636363636364,\n",
              " 'want': 0.005681818181818182,\n",
              " 'webapplication': 0.005681818181818182,\n",
              " 'work': 0.011363636363636364}"
            ]
          },
          "metadata": {
            "tags": []
          },
          "execution_count": 11
        }
      ]
    },
    {
      "cell_type": "code",
      "metadata": {
        "id": "ZRC1gAwcMWxZ",
        "colab": {
          "base_uri": "https://localhost:8080/"
        },
        "outputId": "99e1f18e-2516-41fa-e141-07dfbeea92ad"
      },
      "source": [
        "text = \"\"\"Henil: Hello Everyone. The agenda of todays meeting is discussing updates on HICS project and client's requirements. I want you guys to update me on how many assigned tasks have you completed.\n",
        "Roni: Sir, me and my team have finished the speech recognition module and it has an accuracy of 91%. We are currently working with the subject matter expert for generating dataset for ASL gestures which we will be using for conversion of text to gesture images.\n",
        "Henil: Ok. Good job. You can go ahead with your work. Atul what is you status?\n",
        "Atul: Sir, me and my team are ready with the UI design for the front-end. My team is collabrating with the backend team to make the final template.\n",
        "Henil: Ok, that absolutely fine. Did you contact the client for any update for the project requirement?\n",
        "Atul: Yes sir, the client was quite satisfied with the projects progress and they also want a documentation page that displays the user manual for this application and the ASL manual.\n",
        "Henil: So, you can coordinate with Roni and start working on that once the ASL dataset is ready. So, anything else? Alright then that was all for todays meeting. You can get back to your work now.\"\"\"\n",
        "\n",
        "participants = ['Henil', 'Roni', 'Atul']\n",
        "\n",
        "summarize(text,participants)"
      ],
      "execution_count": null,
      "outputs": [
        {
          "output_type": "stream",
          "text": [
            "Meeting Summary:\n",
            " The agenda of todays meeting is discussing updates on HICS project and client's requirements. Sir, me and my team have finished the speech recognition module and it has an accuracy of 91%. We are currently working with the subject matter expert for generating dataset for ASL gestures which we will be using for conversion of text to gesture images. Sir, me and my team are ready with the UI design for the front-end. Yes sir, the client was quite satisfied with the projects progress and they also want a documentation page that displays the user manual for this application and the ASL manual.\n",
            "\n",
            "\n",
            "\n",
            "Do you want to give feedback for the summary?(Y/N)Y\n",
            "0. Hello Everyone.\n",
            "1. The agenda of todays meeting is discussing updates on HICS project and client's requirements.\n",
            "2. I want you guys to update me on how many assigned tasks have you completed.\n",
            "3. Sir, me and my team have finished the speech recognition module and it has an accuracy of 91%.\n",
            "4. We are currently working with the subject matter expert for generating dataset for ASL gestures which we will be using for conversion of text to gesture images.\n",
            "5. Ok. Good job.\n",
            "6. You can go ahead with your work.\n",
            "7. Atul what is you status?\n",
            "8. Sir, me and my team are ready with the UI design for the front-end.\n",
            "9. My team is collabrating with the backend team to make the final template.\n",
            "10. Ok, that absolutely fine.\n",
            "11. Did you contact the client for any update for the project requirement?\n",
            "12. Yes sir, the client was quite satisfied with the projects progress and they also want a documentation page that displays the user manual for this application and the ASL manual.\n",
            "13. So, you can coordinate with Roni and start working on that once the ASL dataset is ready.\n",
            "14. So, anything else?\n",
            "15. Alright then that was all for todays meeting.\n",
            "16. You can get back to your work now.\n",
            "Enter the nos. of sentences you want to include in the summary (commaseperated): 1,3,4,8,9,12,13\n",
            "\n",
            "\n",
            "The summary generated after your feedback is:\n",
            " The agenda of todays meeting is discussing updates on HICS project and client's requirements. Sir, me and my team have finished the speech recognition module and it has an accuracy of 91%. We are currently working with the subject matter expert for generating dataset for ASL gestures which we will be using for conversion of text to gesture images. Sir, me and my team are ready with the UI design for the front-end. My team is collabrating with the backend team to make the final template. Yes sir, the client was quite satisfied with the projects progress and they also want a documentation page that displays the user manual for this application and the ASL manual. So, you can coordinate with Roni and start working on that once the ASL dataset is ready.\n",
            "\n",
            "\n",
            "Feedback Vector Updated!!!\n"
          ],
          "name": "stdout"
        }
      ]
    },
    {
      "cell_type": "code",
      "metadata": {
        "id": "F3D_5uz8amRF"
      },
      "source": [
        ""
      ],
      "execution_count": null,
      "outputs": []
    }
  ]
}